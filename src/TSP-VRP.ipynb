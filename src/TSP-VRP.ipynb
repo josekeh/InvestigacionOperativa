{
 "cells": [
  {
   "cell_type": "markdown",
   "id": "d94971cf",
   "metadata": {},
   "source": [
    "# Introducción\n",
    "\n",
    "Uno de mis problemas favoritos, y razón de mi proyecto final de grado, es el problema del viajero (Traveling Salesman Problem) y sus multiples evoluciones del problema de ruteo de vehículo (Vehicle Routing Problem)."
   ]
  },
  {
   "cell_type": "markdown",
   "id": "706013ee",
   "metadata": {},
   "source": [
    "## Funciones útiles\n",
    "\n",
    "En esta sección se definirán funciones que serán útiles a lo largo del notebook. Si no le interesa leer código, solo córralo."
   ]
  },
  {
   "cell_type": "code",
   "execution_count": null,
   "id": "e41fdca5",
   "metadata": {},
   "outputs": [],
   "source": [
    "#Importar librerias\n",
    "\n",
    "import random\n",
    "import matplotlib.pyplot as plt\n",
    "import pandas as pd\n",
    "from scipy.spatial.distance import cdist"
   ]
  },
  {
   "cell_type": "code",
   "execution_count": null,
   "id": "ebd6d526",
   "metadata": {},
   "outputs": [],
   "source": [
    "def create_2d_points_df(n, seed):\n",
    "  \"\"\"\n",
    "  Genera n puntos en un espacio 2D y los guarda en un dataframe de pandas.\n",
    "\n",
    "  Args:\n",
    "    n: número de puntos\n",
    "    seed: semilla aleatoria usada para por hacer reproducible el código\n",
    "\n",
    "  Returns:\n",
    "    Un dataframe de Pandas con las columnas \"x\", e \"y\".\n",
    "  \"\"\"\n",
    "  points_data = []\n",
    "  random.seed(seed)\n",
    "  for i in range(n):\n",
    "    x = random.uniform(-100, 100)\n",
    "    y = random.uniform(-100, 100)\n",
    "    points_data.append({'x': x, 'y': y})\n",
    "\n",
    "  df = pd.DataFrame(points_data)\n",
    "  return df\n",
    "\n",
    "\n",
    "def calculate_distance(df):\n",
    "  \"\"\"\n",
    " Toma un dataframe con columnas 'x' e 'y' y calcula las distancias euclídeas\n",
    "\n",
    "  Args:\n",
    "    df: dataframe de pandas con columnas 'x' e 'y'.\n",
    "\n",
    "  Returns:\n",
    "    Una matriz de distancias euclídeas.\n",
    "  \"\"\"\n",
    "  coords = df[['x', 'y']].values\n",
    "  distance_matrix = cdist(coords, coords, metric='euclidean')\n",
    "  return distance_matrix\n",
    "\n",
    "def plot_points(df):\n",
    "  \"\"\"\n",
    "  Plotea los puntos generados por create_2d_points_df.\n",
    "\n",
    "  Args:\n",
    "    df: df: dataframe de pandas con columnas 'x' e 'y'.\n",
    "  \"\"\"\n",
    "  x_coords = df['x'].tolist()\n",
    "  y_coords = df['y'].tolist()\n",
    "\n",
    "  plt.figure(figsize=(8, 8))\n",
    "  plt.scatter(x_coords, y_coords)\n",
    "  plt.title('Puntos en el espacio 2D')\n",
    "  plt.xlabel('X')\n",
    "  plt.ylabel('Y')\n",
    "  plt.grid(True)\n",
    "  plt.show()"
   ]
  },
  {
   "cell_type": "markdown",
   "id": "870bf6f9",
   "metadata": {},
   "source": [
    "## Traveling Salesman Problem\n",
    "\n",
    "En el problema del viajero, se tiene un set V de n nodos, con sus costos c<sub>ij</sub> asociados (costos de ir del nodo i al j). Con la condición de visitar cada nodo una única vez, se busca el mínimo costo para este circuito.\n",
    "\n",
    "Si bien la formulación más utilizada para resolver este problema lineal entero es la de Dantzig–Fulkerson–Johnson (DFJ), este ejemplo se realizará con la formulación de Miller–Tucker–Zemlin (MTZ) por ser la más sencilla de explicar en la eliminación de subtours.\n"
   ]
  },
  {
   "cell_type": "markdown",
   "id": "5007ff64",
   "metadata": {},
   "source": [
    "Solo con la definición del TSP, podríamos plantear el siguiente problema: \n",
    "\n",
    "Siendo:\n",
    "- x<sub>ij</sub> una variable binaria si se viaja de i hacia j\n",
    "- c<sub>ij</sub> el costo de ir de i a j\n",
    "\n",
    "Minimizar:\n",
    "$$\n",
    "\\min \\sum_{i=1}^{n} \\sum_{\\substack{j=1 \\\\ j \\ne i}}^{n} c_{ij} x_{ij}\n",
    "$$\n",
    "\n",
    "Sujeto a:\n",
    "\n",
    "$$\n",
    "\\sum_{\\substack{i=1 \\\\ i \\ne j}}^{n} x_{ij} = 1 \\quad \\text{para } j = 1, \\dots, n;\n",
    "$$\n",
    "\n",
    "$$\n",
    "\\sum_{\\substack{j=1 \\\\ j \\ne i}}^{n} x_{ij} = 1 \\quad \\text{para } i = 1, \\dots, n;\n",
    "$$\n",
    "\n",
    "$$\n",
    "x_{ij} \\in \\{0, 1\\} \\quad \\text{para } i, j = 1, \\dots, n;\n",
    "$$"
   ]
  },
  {
   "cell_type": "markdown",
   "id": "66dd4645",
   "metadata": {},
   "source": [
    "Para ver que es necesario cierto trabajo extra, vamos a tratar de resolver este caso:\n",
    "\n",
    "Suponer que se tienen 10 puntos aleatorios en el espacio definidos a continuación:"
   ]
  },
  {
   "cell_type": "code",
   "execution_count": 11,
   "id": "aad2a17e",
   "metadata": {},
   "outputs": [
    {
     "data": {
      "image/png": "[encoded data removed]",
      "text/plain": [
       "<Figure size 800x800 with 1 Axes>"
      ]
     },
     "metadata": {},
     "output_type": "display_data"
    }
   ],
   "source": [
    "# Defino una semilla\n",
    "seed = 1234\n",
    "\n",
    "# Genero los puntos\n",
    "puntos = create_2d_points_df(10, seed)\n",
    "\n",
    "# Ploteo los puntos\n",
    "plot_points(puntos)\n",
    "\n",
    "# Calculo distancias\n",
    "distancias = calculate_distance(puntos)"
   ]
  },
  {
   "cell_type": "markdown",
   "id": "2e65239c",
   "metadata": {},
   "source": []
  },
  {
   "cell_type": "markdown",
   "id": "d28a5414",
   "metadata": {},
   "source": [
    "ToDo:\n",
    "- Hacer el programa lineal mostrando como iterar para crear las variables\n",
    "- Plotear caminos de resultado\n",
    "- Mostrar la generación de subtours"
   ]
  },
  {
   "cell_type": "markdown",
   "id": "31e69af7",
   "metadata": {},
   "source": []
  },
  {
   "cell_type": "markdown",
   "id": "4f8c02a2",
   "metadata": {},
   "source": []
  },
  {
   "cell_type": "markdown",
   "id": "33beeaa0",
   "metadata": {},
   "source": []
  },
  {
   "cell_type": "markdown",
   "id": "33d94769",
   "metadata": {},
   "source": [
    "El problema que encontramos es que nada impide al modelo a generar subtours, esto es, aislar ciertos nodos en un tours cerrado propio.\n",
    "\n",
    "Para solucionar esta problematica es que exiten las formulaciones DFJ y MTZ (entre otras). MTZ presenta una nueva variable dummy la cual indica el órden en que son visitados los nodos."
   ]
  }
 ],
 "metadata": {
  "kernelspec": {
   "display_name": ".venv",
   "language": "python",
   "name": "python3"
  },
  "language_info": {
   "codemirror_mode": {
    "name": "ipython",
    "version": 3
   },
   "file_extension": ".py",
   "mimetype": "text/x-python",
   "name": "python",
   "nbconvert_exporter": "python",
   "pygments_lexer": "ipython3",
   "version": "3.11.9"
  }
 },
 "nbformat": 4,
 "nbformat_minor": 5
}
