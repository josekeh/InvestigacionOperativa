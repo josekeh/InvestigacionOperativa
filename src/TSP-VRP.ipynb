{
 "cells": [
  {
   "cell_type": "markdown",
   "id": "d94971cf",
   "metadata": {},
   "source": [
    "# Introducción\n",
    "\n",
    "Uno de mis problemas favoritos, y razón de mi proyecto final de grado, es el problema del viajero (Traveling Salesman Problem) y sus multiples evoluciones del problema de ruteo de vehículo (Vehicle Routing Problem)."
   ]
  },
  {
   "cell_type": "markdown",
   "id": "870bf6f9",
   "metadata": {},
   "source": [
    "## Traveling Salesman Problem\n",
    "\n",
    "En el problema del viajero, se tiene un set V de n nodos, con sus costos c_ij asociados (costos de ir del nodo i al j). Con la condición de visitar cada nodo una única vez, se busca el mínimo costo para este circuito.\n",
    "\n",
    "Si bien la fórmula más utilizada para resolver este problema lineal entero es la de Dantzig–Fulkerson–Johnson (DFJ), este ejemplo se realizará con la fórmula de Miller–Tucker–Zemlin (MTZ) por ser la más sencilla de explicar en la eliminación de sub tours.\n"
   ]
  },
  {
   "cell_type": "markdown",
   "id": "5007ff64",
   "metadata": {},
   "source": [
    "TBC..."
   ]
  }
 ],
 "metadata": {
  "language_info": {
   "name": "python"
  }
 },
 "nbformat": 4,
 "nbformat_minor": 5
}
